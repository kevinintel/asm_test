{
 "cells": [
  {
   "cell_type": "markdown",
   "id": "72351f28-359a-4ea8-8288-e464f1521223",
   "metadata": {},
   "source": [
    "### Sentiment Analysis with Hugging Face & Post Training Quantization (PTQ)"
   ]
  },
  {
   "cell_type": "markdown",
   "id": "067bf59c-737b-4592-985e-a8f795c61487",
   "metadata": {},
   "source": [
    "This is a demo on how to perform [post training quantization](https://github.com/intel/neural-compressor/blob/master/docs/Quantization.md) of a [Hugging Face transformer model](https://github.com/huggingface/transformers) using the [Intel® Neural Compressor](https://github.com/intel/neural-compressor). The showcase will be applied to a sentiment analysis task using [SST-2](https://nlp.stanford.edu/sentiment/index.html) data (_Stanford Sentiment Treebank_), i.e., we determine if a sentence has a positive or negative sentiment.\n",
    "\n",
    "_Nota bene_: This demo is a variation, simplification, and extension of this [Hugging Face](https://github.com/huggingface/notebooks/blob/main/examples/text_classification_quantization_inc.ipynb) demo of Optimum, i.e., Hugging Face's compression tool. \n",
    "\n",
    "The demo consists of the following steps:\n",
    "\n",
    "1. Load and preprocess the dataset\n",
    "2. Set up, train, and evaluate a full-precision sentiment classification model\n",
    "3. Quantize the full-precision model & evaluate the quantized model\n",
    "4. Compare the full-precision and the quantized models wrt accuracy, model size, and inference latency time."
   ]
  },
  {
   "cell_type": "markdown",
   "id": "cc37416b-97ae-480e-a17a-1aa995628ef0",
   "metadata": {},
   "source": [
    "**This demo is executed in a Conda\\* environment.**\n",
    "\n",
    "The environment is the latest [Intel® oneAPI AI Analytics Toolkit](https://software.intel.com/content/www/us/en/develop/tools/oneapi/ai-analytics-toolkit.html) PyTorch* environment, which includes Intel® Optimizations for deep learning workflows. See [here](https://software.intel.com/content/www/us/en/develop/articles/installing-ai-kit-with-conda.html) for more installation information."
   ]
  },
  {
   "cell_type": "markdown",
   "id": "0d963a1c-c687-4cd4-9561-995b0da3741a",
   "metadata": {},
   "source": [
    "If not yet installed, please make sure to uncomment the following lines in order to install Transformers and Datasets from Hugging Face."
   ]
  },
  {
   "cell_type": "code",
   "execution_count": 1,
   "id": "b830f3d8-8fee-4bca-97a2-92247b00a1e8",
   "metadata": {},
   "outputs": [
    {
     "name": "stdout",
     "output_type": "stream",
     "text": [
      "Requirement already satisfied: pip in /home/sdp/anaconda3/envs/inc/lib/python3.9/site-packages (22.2.2)\n",
      "Requirement already satisfied: datasets in /home/sdp/anaconda3/envs/inc/lib/python3.9/site-packages (2.4.0)\n",
      "Requirement already satisfied: transformers in /home/sdp/anaconda3/envs/inc/lib/python3.9/site-packages (4.22.1)\n",
      "Requirement already satisfied: xxhash in /home/sdp/anaconda3/envs/inc/lib/python3.9/site-packages (from datasets) (3.0.0)\n",
      "Requirement already satisfied: responses<0.19 in /home/sdp/anaconda3/envs/inc/lib/python3.9/site-packages (from datasets) (0.18.0)\n",
      "Requirement already satisfied: dill<0.3.6 in /home/sdp/anaconda3/envs/inc/lib/python3.9/site-packages (from datasets) (0.3.5.1)\n",
      "Requirement already satisfied: multiprocess in /home/sdp/anaconda3/envs/inc/lib/python3.9/site-packages (from datasets) (0.70.13)\n",
      "Requirement already satisfied: requests>=2.19.0 in /home/sdp/anaconda3/envs/inc/lib/python3.9/site-packages (from datasets) (2.28.1)\n",
      "Requirement already satisfied: tqdm>=4.62.1 in /home/sdp/anaconda3/envs/inc/lib/python3.9/site-packages (from datasets) (4.64.1)\n",
      "Requirement already satisfied: packaging in /home/sdp/anaconda3/envs/inc/lib/python3.9/site-packages (from datasets) (21.3)\n",
      "Requirement already satisfied: pandas in /home/sdp/anaconda3/envs/inc/lib/python3.9/site-packages (from datasets) (1.5.0)\n",
      "Requirement already satisfied: fsspec[http]>=2021.11.1 in /home/sdp/anaconda3/envs/inc/lib/python3.9/site-packages (from datasets) (2022.8.2)\n",
      "Requirement already satisfied: numpy>=1.17 in /home/sdp/anaconda3/envs/inc/lib/python3.9/site-packages (from datasets) (1.21.4)\n",
      "Requirement already satisfied: aiohttp in /home/sdp/anaconda3/envs/inc/lib/python3.9/site-packages (from datasets) (3.8.1)\n",
      "Requirement already satisfied: huggingface-hub<1.0.0,>=0.1.0 in /home/sdp/anaconda3/envs/inc/lib/python3.9/site-packages (from datasets) (0.9.1)\n",
      "Requirement already satisfied: pyarrow>=6.0.0 in /home/sdp/anaconda3/envs/inc/lib/python3.9/site-packages (from datasets) (9.0.0)\n",
      "Requirement already satisfied: filelock in /home/sdp/anaconda3/envs/inc/lib/python3.9/site-packages (from transformers) (3.8.0)\n",
      "Requirement already satisfied: tokenizers!=0.11.3,<0.13,>=0.11.1 in /home/sdp/anaconda3/envs/inc/lib/python3.9/site-packages (from transformers) (0.12.1)\n",
      "Requirement already satisfied: pyyaml>=5.1 in /home/sdp/anaconda3/envs/inc/lib/python3.9/site-packages (from transformers) (5.4.1)\n",
      "Requirement already satisfied: regex!=2019.12.17 in /home/sdp/anaconda3/envs/inc/lib/python3.9/site-packages (from transformers) (2022.9.13)\n",
      "Requirement already satisfied: charset-normalizer<3.0,>=2.0 in /home/sdp/anaconda3/envs/inc/lib/python3.9/site-packages (from aiohttp->datasets) (2.1.1)\n",
      "Requirement already satisfied: multidict<7.0,>=4.5 in /home/sdp/anaconda3/envs/inc/lib/python3.9/site-packages (from aiohttp->datasets) (6.0.2)\n",
      "Requirement already satisfied: aiosignal>=1.1.2 in /home/sdp/anaconda3/envs/inc/lib/python3.9/site-packages (from aiohttp->datasets) (1.2.0)\n",
      "Requirement already satisfied: yarl<2.0,>=1.0 in /home/sdp/anaconda3/envs/inc/lib/python3.9/site-packages (from aiohttp->datasets) (1.8.1)\n",
      "Requirement already satisfied: async-timeout<5.0,>=4.0.0a3 in /home/sdp/anaconda3/envs/inc/lib/python3.9/site-packages (from aiohttp->datasets) (4.0.2)\n",
      "Requirement already satisfied: attrs>=17.3.0 in /home/sdp/anaconda3/envs/inc/lib/python3.9/site-packages (from aiohttp->datasets) (22.1.0)\n",
      "Requirement already satisfied: frozenlist>=1.1.1 in /home/sdp/anaconda3/envs/inc/lib/python3.9/site-packages (from aiohttp->datasets) (1.3.1)\n",
      "Requirement already satisfied: typing-extensions>=3.7.4.3 in /home/sdp/anaconda3/envs/inc/lib/python3.9/site-packages (from huggingface-hub<1.0.0,>=0.1.0->datasets) (4.1.1)\n",
      "Requirement already satisfied: pyparsing!=3.0.5,>=2.0.2 in /home/sdp/anaconda3/envs/inc/lib/python3.9/site-packages (from packaging->datasets) (3.0.9)\n",
      "Requirement already satisfied: urllib3<1.27,>=1.21.1 in /home/sdp/anaconda3/envs/inc/lib/python3.9/site-packages (from requests>=2.19.0->datasets) (1.26.12)\n",
      "Requirement already satisfied: certifi>=2017.4.17 in /home/sdp/anaconda3/envs/inc/lib/python3.9/site-packages (from requests>=2.19.0->datasets) (2021.10.8)\n",
      "Requirement already satisfied: idna<4,>=2.5 in /home/sdp/anaconda3/envs/inc/lib/python3.9/site-packages (from requests>=2.19.0->datasets) (3.4)\n",
      "Requirement already satisfied: python-dateutil>=2.8.1 in /home/sdp/anaconda3/envs/inc/lib/python3.9/site-packages (from pandas->datasets) (2.8.2)\n",
      "Requirement already satisfied: pytz>=2020.1 in /home/sdp/anaconda3/envs/inc/lib/python3.9/site-packages (from pandas->datasets) (2022.2.1)\n",
      "Requirement already satisfied: six>=1.5 in /home/sdp/anaconda3/envs/inc/lib/python3.9/site-packages (from python-dateutil>=2.8.1->pandas->datasets) (1.16.0)\n"
     ]
    }
   ],
   "source": [
    "! pip install --upgrade pip\n",
    "! pip install datasets transformers"
   ]
  },
  {
   "cell_type": "markdown",
   "id": "acc882cf-5576-40ee-8ddc-4a1f2d40ede8",
   "metadata": {},
   "source": [
    "Install also the Intel® Neural Compressor."
   ]
  },
  {
   "cell_type": "code",
   "execution_count": 2,
   "id": "73be0430-31c4-4c1e-9562-b358d07047f9",
   "metadata": {},
   "outputs": [
    {
     "name": "stdout",
     "output_type": "stream",
     "text": [
      "Requirement already satisfied: neural-compressor in /home/sdp/anaconda3/envs/inc/lib/python3.9/site-packages (1.14)\n",
      "Requirement already satisfied: Pillow in /home/sdp/anaconda3/envs/inc/lib/python3.9/site-packages (from neural-compressor) (9.0.0)\n",
      "Requirement already satisfied: hyperopt in /home/sdp/anaconda3/envs/inc/lib/python3.9/site-packages (from neural-compressor) (0.2.7)\n",
      "Requirement already satisfied: py-cpuinfo in /home/sdp/anaconda3/envs/inc/lib/python3.9/site-packages (from neural-compressor) (8.0.0)\n",
      "Requirement already satisfied: schema in /home/sdp/anaconda3/envs/inc/lib/python3.9/site-packages (from neural-compressor) (0.7.5)\n",
      "Requirement already satisfied: cryptography in /home/sdp/anaconda3/envs/inc/lib/python3.9/site-packages (from neural-compressor) (38.0.1)\n",
      "Requirement already satisfied: numpy in /home/sdp/anaconda3/envs/inc/lib/python3.9/site-packages (from neural-compressor) (1.21.4)\n",
      "Requirement already satisfied: pyyaml in /home/sdp/anaconda3/envs/inc/lib/python3.9/site-packages (from neural-compressor) (5.4.1)\n",
      "Requirement already satisfied: scikit-learn in /home/sdp/anaconda3/envs/inc/lib/python3.9/site-packages (from neural-compressor) (1.1.2)\n",
      "Requirement already satisfied: prettytable in /home/sdp/anaconda3/envs/inc/lib/python3.9/site-packages (from neural-compressor) (3.4.1)\n",
      "Requirement already satisfied: Cython in /home/sdp/anaconda3/envs/inc/lib/python3.9/site-packages (from neural-compressor) (0.29.32)\n",
      "Requirement already satisfied: psutil in /home/sdp/anaconda3/envs/inc/lib/python3.9/site-packages (from neural-compressor) (5.8.0)\n",
      "Requirement already satisfied: sigopt in /home/sdp/anaconda3/envs/inc/lib/python3.9/site-packages (from neural-compressor) (8.6.0)\n",
      "Requirement already satisfied: opencv-python in /home/sdp/anaconda3/envs/inc/lib/python3.9/site-packages (from neural-compressor) (4.6.0.66)\n",
      "Requirement already satisfied: pandas in /home/sdp/anaconda3/envs/inc/lib/python3.9/site-packages (from neural-compressor) (1.5.0)\n",
      "Requirement already satisfied: pycocotools in /home/sdp/anaconda3/envs/inc/lib/python3.9/site-packages (from neural-compressor) (2.0.5)\n",
      "Requirement already satisfied: requests in /home/sdp/anaconda3/envs/inc/lib/python3.9/site-packages (from neural-compressor) (2.28.1)\n",
      "Requirement already satisfied: cffi>=1.12 in /home/sdp/anaconda3/envs/inc/lib/python3.9/site-packages (from cryptography->neural-compressor) (1.15.1)\n",
      "Requirement already satisfied: py4j in /home/sdp/anaconda3/envs/inc/lib/python3.9/site-packages (from hyperopt->neural-compressor) (0.10.9.7)\n",
      "Requirement already satisfied: tqdm in /home/sdp/anaconda3/envs/inc/lib/python3.9/site-packages (from hyperopt->neural-compressor) (4.64.1)\n",
      "Requirement already satisfied: scipy in /home/sdp/anaconda3/envs/inc/lib/python3.9/site-packages (from hyperopt->neural-compressor) (1.9.1)\n",
      "Requirement already satisfied: cloudpickle in /home/sdp/anaconda3/envs/inc/lib/python3.9/site-packages (from hyperopt->neural-compressor) (2.2.0)\n",
      "Requirement already satisfied: future in /home/sdp/anaconda3/envs/inc/lib/python3.9/site-packages (from hyperopt->neural-compressor) (0.18.2)\n",
      "Requirement already satisfied: six in /home/sdp/anaconda3/envs/inc/lib/python3.9/site-packages (from hyperopt->neural-compressor) (1.16.0)\n",
      "Requirement already satisfied: networkx>=2.2 in /home/sdp/anaconda3/envs/inc/lib/python3.9/site-packages (from hyperopt->neural-compressor) (2.8.6)\n",
      "Requirement already satisfied: pytz>=2020.1 in /home/sdp/anaconda3/envs/inc/lib/python3.9/site-packages (from pandas->neural-compressor) (2022.2.1)\n",
      "Requirement already satisfied: python-dateutil>=2.8.1 in /home/sdp/anaconda3/envs/inc/lib/python3.9/site-packages (from pandas->neural-compressor) (2.8.2)\n",
      "Requirement already satisfied: wcwidth in /home/sdp/anaconda3/envs/inc/lib/python3.9/site-packages (from prettytable->neural-compressor) (0.2.5)\n",
      "Requirement already satisfied: matplotlib>=2.1.0 in /home/sdp/anaconda3/envs/inc/lib/python3.9/site-packages (from pycocotools->neural-compressor) (3.6.0)\n",
      "Requirement already satisfied: idna<4,>=2.5 in /home/sdp/anaconda3/envs/inc/lib/python3.9/site-packages (from requests->neural-compressor) (3.4)\n",
      "Requirement already satisfied: certifi>=2017.4.17 in /home/sdp/anaconda3/envs/inc/lib/python3.9/site-packages (from requests->neural-compressor) (2021.10.8)\n",
      "Requirement already satisfied: urllib3<1.27,>=1.21.1 in /home/sdp/anaconda3/envs/inc/lib/python3.9/site-packages (from requests->neural-compressor) (1.26.12)\n",
      "Requirement already satisfied: charset-normalizer<3,>=2 in /home/sdp/anaconda3/envs/inc/lib/python3.9/site-packages (from requests->neural-compressor) (2.1.1)\n",
      "Requirement already satisfied: contextlib2>=0.5.5 in /home/sdp/anaconda3/envs/inc/lib/python3.9/site-packages (from schema->neural-compressor) (21.6.0)\n",
      "Requirement already satisfied: threadpoolctl>=2.0.0 in /home/sdp/anaconda3/envs/inc/lib/python3.9/site-packages (from scikit-learn->neural-compressor) (3.1.0)\n",
      "Requirement already satisfied: joblib>=1.0.0 in /home/sdp/anaconda3/envs/inc/lib/python3.9/site-packages (from scikit-learn->neural-compressor) (1.2.0)\n",
      "Requirement already satisfied: backoff<2.0.0,>=1.10.0 in /home/sdp/anaconda3/envs/inc/lib/python3.9/site-packages (from sigopt->neural-compressor) (1.11.1)\n",
      "Requirement already satisfied: docker<5.0.0,>=4.4.0 in /home/sdp/anaconda3/envs/inc/lib/python3.9/site-packages (from sigopt->neural-compressor) (4.4.4)\n",
      "Requirement already satisfied: ipython>=5.0.0 in /home/sdp/anaconda3/envs/inc/lib/python3.9/site-packages (from sigopt->neural-compressor) (8.5.0)\n",
      "Requirement already satisfied: Pint<0.17.0,>=0.16.0 in /home/sdp/anaconda3/envs/inc/lib/python3.9/site-packages (from sigopt->neural-compressor) (0.16.1)\n",
      "Requirement already satisfied: GitPython>=2.0.0 in /home/sdp/anaconda3/envs/inc/lib/python3.9/site-packages (from sigopt->neural-compressor) (3.1.27)\n",
      "Requirement already satisfied: kubernetes<13.0.0,>=12.0.1 in /home/sdp/anaconda3/envs/inc/lib/python3.9/site-packages (from sigopt->neural-compressor) (12.0.1)\n",
      "Requirement already satisfied: pyOpenSSL>=20.0.0 in /home/sdp/anaconda3/envs/inc/lib/python3.9/site-packages (from sigopt->neural-compressor) (22.0.0)\n",
      "Requirement already satisfied: pypng>=0.0.20 in /home/sdp/anaconda3/envs/inc/lib/python3.9/site-packages (from sigopt->neural-compressor) (0.20220715.0)\n",
      "Requirement already satisfied: rsa<5.0.0,>=4.7 in /home/sdp/anaconda3/envs/inc/lib/python3.9/site-packages (from sigopt->neural-compressor) (4.9)\n",
      "Requirement already satisfied: packaging>=21.3 in /home/sdp/anaconda3/envs/inc/lib/python3.9/site-packages (from sigopt->neural-compressor) (21.3)\n",
      "Requirement already satisfied: boto3<2.0.0,>=1.16.34 in /home/sdp/anaconda3/envs/inc/lib/python3.9/site-packages (from sigopt->neural-compressor) (1.24.76)\n",
      "Requirement already satisfied: click>=8.0.0 in /home/sdp/anaconda3/envs/inc/lib/python3.9/site-packages (from sigopt->neural-compressor) (8.1.3)\n",
      "Requirement already satisfied: botocore<1.28.0,>=1.27.76 in /home/sdp/anaconda3/envs/inc/lib/python3.9/site-packages (from boto3<2.0.0,>=1.16.34->sigopt->neural-compressor) (1.27.76)\n",
      "Requirement already satisfied: s3transfer<0.7.0,>=0.6.0 in /home/sdp/anaconda3/envs/inc/lib/python3.9/site-packages (from boto3<2.0.0,>=1.16.34->sigopt->neural-compressor) (0.6.0)\n",
      "Requirement already satisfied: jmespath<2.0.0,>=0.7.1 in /home/sdp/anaconda3/envs/inc/lib/python3.9/site-packages (from boto3<2.0.0,>=1.16.34->sigopt->neural-compressor) (1.0.1)\n",
      "Requirement already satisfied: pycparser in /home/sdp/anaconda3/envs/inc/lib/python3.9/site-packages (from cffi>=1.12->cryptography->neural-compressor) (2.21)\n",
      "Requirement already satisfied: websocket-client>=0.32.0 in /home/sdp/anaconda3/envs/inc/lib/python3.9/site-packages (from docker<5.0.0,>=4.4.0->sigopt->neural-compressor) (1.4.1)\n",
      "Requirement already satisfied: gitdb<5,>=4.0.1 in /home/sdp/anaconda3/envs/inc/lib/python3.9/site-packages (from GitPython>=2.0.0->sigopt->neural-compressor) (4.0.9)\n",
      "Requirement already satisfied: matplotlib-inline in /home/sdp/anaconda3/envs/inc/lib/python3.9/site-packages (from ipython>=5.0.0->sigopt->neural-compressor) (0.1.6)\n",
      "Requirement already satisfied: prompt-toolkit<3.1.0,>3.0.1 in /home/sdp/anaconda3/envs/inc/lib/python3.9/site-packages (from ipython>=5.0.0->sigopt->neural-compressor) (3.0.31)\n",
      "Requirement already satisfied: backcall in /home/sdp/anaconda3/envs/inc/lib/python3.9/site-packages (from ipython>=5.0.0->sigopt->neural-compressor) (0.2.0)\n",
      "Requirement already satisfied: pickleshare in /home/sdp/anaconda3/envs/inc/lib/python3.9/site-packages (from ipython>=5.0.0->sigopt->neural-compressor) (0.7.5)\n",
      "Requirement already satisfied: traitlets>=5 in /home/sdp/anaconda3/envs/inc/lib/python3.9/site-packages (from ipython>=5.0.0->sigopt->neural-compressor) (5.4.0)\n",
      "Requirement already satisfied: decorator in /home/sdp/anaconda3/envs/inc/lib/python3.9/site-packages (from ipython>=5.0.0->sigopt->neural-compressor) (5.1.1)\n",
      "Requirement already satisfied: pexpect>4.3 in /home/sdp/anaconda3/envs/inc/lib/python3.9/site-packages (from ipython>=5.0.0->sigopt->neural-compressor) (4.8.0)\n",
      "Requirement already satisfied: jedi>=0.16 in /home/sdp/anaconda3/envs/inc/lib/python3.9/site-packages (from ipython>=5.0.0->sigopt->neural-compressor) (0.18.1)\n",
      "Requirement already satisfied: pygments>=2.4.0 in /home/sdp/anaconda3/envs/inc/lib/python3.9/site-packages (from ipython>=5.0.0->sigopt->neural-compressor) (2.13.0)\n",
      "Requirement already satisfied: stack-data in /home/sdp/anaconda3/envs/inc/lib/python3.9/site-packages (from ipython>=5.0.0->sigopt->neural-compressor) (0.5.0)\n",
      "Requirement already satisfied: requests-oauthlib in /home/sdp/anaconda3/envs/inc/lib/python3.9/site-packages (from kubernetes<13.0.0,>=12.0.1->sigopt->neural-compressor) (1.3.1)\n",
      "Requirement already satisfied: setuptools>=21.0.0 in /home/sdp/anaconda3/envs/inc/lib/python3.9/site-packages (from kubernetes<13.0.0,>=12.0.1->sigopt->neural-compressor) (58.0.4)\n",
      "Requirement already satisfied: google-auth>=1.0.1 in /home/sdp/anaconda3/envs/inc/lib/python3.9/site-packages (from kubernetes<13.0.0,>=12.0.1->sigopt->neural-compressor) (2.11.1)\n",
      "Requirement already satisfied: fonttools>=4.22.0 in /home/sdp/anaconda3/envs/inc/lib/python3.9/site-packages (from matplotlib>=2.1.0->pycocotools->neural-compressor) (4.37.2)\n",
      "Requirement already satisfied: kiwisolver>=1.0.1 in /home/sdp/anaconda3/envs/inc/lib/python3.9/site-packages (from matplotlib>=2.1.0->pycocotools->neural-compressor) (1.4.4)\n",
      "Requirement already satisfied: pyparsing>=2.2.1 in /home/sdp/anaconda3/envs/inc/lib/python3.9/site-packages (from matplotlib>=2.1.0->pycocotools->neural-compressor) (3.0.9)\n",
      "Requirement already satisfied: cycler>=0.10 in /home/sdp/anaconda3/envs/inc/lib/python3.9/site-packages (from matplotlib>=2.1.0->pycocotools->neural-compressor) (0.11.0)\n",
      "Requirement already satisfied: contourpy>=1.0.1 in /home/sdp/anaconda3/envs/inc/lib/python3.9/site-packages (from matplotlib>=2.1.0->pycocotools->neural-compressor) (1.0.5)\n",
      "Requirement already satisfied: pyasn1>=0.1.3 in /home/sdp/anaconda3/envs/inc/lib/python3.9/site-packages (from rsa<5.0.0,>=4.7->sigopt->neural-compressor) (0.4.8)\n",
      "Requirement already satisfied: smmap<6,>=3.0.1 in /home/sdp/anaconda3/envs/inc/lib/python3.9/site-packages (from gitdb<5,>=4.0.1->GitPython>=2.0.0->sigopt->neural-compressor) (5.0.0)\n",
      "Requirement already satisfied: cachetools<6.0,>=2.0.0 in /home/sdp/anaconda3/envs/inc/lib/python3.9/site-packages (from google-auth>=1.0.1->kubernetes<13.0.0,>=12.0.1->sigopt->neural-compressor) (5.2.0)\n",
      "Requirement already satisfied: pyasn1-modules>=0.2.1 in /home/sdp/anaconda3/envs/inc/lib/python3.9/site-packages (from google-auth>=1.0.1->kubernetes<13.0.0,>=12.0.1->sigopt->neural-compressor) (0.2.8)\n",
      "Requirement already satisfied: parso<0.9.0,>=0.8.0 in /home/sdp/anaconda3/envs/inc/lib/python3.9/site-packages (from jedi>=0.16->ipython>=5.0.0->sigopt->neural-compressor) (0.8.3)\n",
      "Requirement already satisfied: ptyprocess>=0.5 in /home/sdp/anaconda3/envs/inc/lib/python3.9/site-packages (from pexpect>4.3->ipython>=5.0.0->sigopt->neural-compressor) (0.7.0)\n",
      "Requirement already satisfied: oauthlib>=3.0.0 in /home/sdp/anaconda3/envs/inc/lib/python3.9/site-packages (from requests-oauthlib->kubernetes<13.0.0,>=12.0.1->sigopt->neural-compressor) (3.2.1)\n",
      "Requirement already satisfied: asttokens in /home/sdp/anaconda3/envs/inc/lib/python3.9/site-packages (from stack-data->ipython>=5.0.0->sigopt->neural-compressor) (2.0.8)\n",
      "Requirement already satisfied: pure-eval in /home/sdp/anaconda3/envs/inc/lib/python3.9/site-packages (from stack-data->ipython>=5.0.0->sigopt->neural-compressor) (0.2.2)\n",
      "Requirement already satisfied: executing in /home/sdp/anaconda3/envs/inc/lib/python3.9/site-packages (from stack-data->ipython>=5.0.0->sigopt->neural-compressor) (1.0.0)\n"
     ]
    }
   ],
   "source": [
    "! pip install neural-compressor"
   ]
  },
  {
   "cell_type": "markdown",
   "id": "c8c8f85e-b0ea-439b-b217-060af537b52d",
   "metadata": {},
   "source": [
    "**Load necessary packages**\n",
    "\n",
    "For preprocessing the data, model loading, as well as training and evaluation, Hugging Face's API is used.\n",
    "\n",
    "For the quantization of the model, we use INC."
   ]
  },
  {
   "cell_type": "code",
   "execution_count": 3,
   "id": "e78d6f0f-e618-44f5-b82f-3d136306e74b",
   "metadata": {},
   "outputs": [
    {
     "name": "stderr",
     "output_type": "stream",
     "text": [
      "/home/sdp/anaconda3/envs/inc/lib/python3.9/site-packages/tqdm/auto.py:22: TqdmWarning: IProgress not found. Please update jupyter and ipywidgets. See https://ipywidgets.readthedocs.io/en/stable/user_install.html\n",
      "  from .autonotebook import tqdm as notebook_tqdm\n"
     ]
    }
   ],
   "source": [
    "from transformers import pipeline, AutoTokenizer, AutoModelForSequenceClassification, TrainingArguments, Trainer, default_data_collator, set_seed\n",
    "from datasets import load_dataset, load_metric\n",
    "\n",
    "from neural_compressor.experimental import Quantization, common\n",
    "\n",
    "import torch\n",
    "import numpy as np\n",
    "import matplotlib.pyplot as plt\n",
    "\n",
    "import os\n",
    "\n",
    "import time"
   ]
  },
  {
   "cell_type": "markdown",
   "id": "d0da52e3-d082-409f-9eb7-f6cc33a47bab",
   "metadata": {},
   "source": [
    "**Exclude GPUs**\n",
    "\n",
    "This demo will run on CPUs only."
   ]
  },
  {
   "cell_type": "code",
   "execution_count": 4,
   "id": "b20d365d-d007-4c43-8957-4f3e1b27b9ed",
   "metadata": {},
   "outputs": [],
   "source": [
    "os.environ[\"CUDA_VISIBLE_DEVICES\"] = \"\""
   ]
  },
  {
   "cell_type": "markdown",
   "id": "46da891e-2811-4fd2-a28c-7d494d3dc411",
   "metadata": {},
   "source": [
    "**Define the model together with the tokenizer**\n",
    "\n",
    "In this case, the default model for sentiment analysis is used, i.e., [DistilBERT](https://huggingface.co/docs/transformers/model_doc/distilbert) which was fine-tuned on SST-2 data ([distilbert-base-uncased-finetuned-sst-2-english](https://huggingface.co/distilbert-base-uncased-finetuned-sst-2-english)). This distilled version of BERT ensures good and effective performance in training and evaluation with a minimal trade-off in accuracy.\n",
    "\n",
    "The pretrained model as well as the tokenizer will download and subsequently be cached.\n",
    "\n",
    "Furthermore, we are defining the batch size as well as limit the number of samples used for training for this demo."
   ]
  },
  {
   "cell_type": "code",
   "execution_count": 5,
   "id": "d72d8b9f-c28d-4ca3-a899-73b8a9a14b70",
   "metadata": {},
   "outputs": [],
   "source": [
    "model_name = \"distilbert-base-uncased-finetuned-sst-2-english\"\n",
    "fp_model = AutoModelForSequenceClassification.from_pretrained(model_name, num_labels=2)\n",
    "tokenizer = AutoTokenizer.from_pretrained(model_name)\n",
    "\n",
    "batch_size = 16\n",
    "max_train_samples = 100"
   ]
  },
  {
   "cell_type": "markdown",
   "id": "87ac395c-f5fc-4df8-bded-2cdce6e74b13",
   "metadata": {},
   "source": [
    "**Load the SST-2 dataset**"
   ]
  },
  {
   "cell_type": "markdown",
   "id": "e7351fed-5431-4558-a73d-ae788b84c12d",
   "metadata": {},
   "source": [
    "We load the SST-2 dataset from the Hugging Face [Dataset](https://github.com/huggingface/datasets) library, using Hugging Face's API. The dataset will be downloaded and subsequently cached."
   ]
  },
  {
   "cell_type": "code",
   "execution_count": 6,
   "id": "2dde1aab-dcae-44c5-aece-8f9cb946e79d",
   "metadata": {},
   "outputs": [
    {
     "name": "stderr",
     "output_type": "stream",
     "text": [
      "2022-09-19 23:49:56 [WARNING] Reusing dataset glue (/home/sdp/.cache/huggingface/datasets/glue/sst2/1.0.0/dacbe3125aa31d7f70367a07a8a9e72a5a0bfeb5fc42e75c9db75b96da6053ad)\n",
      "100%|██████████████████████████████████████████████████████████████████████████████████████████████████████████████████████████| 3/3 [00:00<00:00, 581.76it/s]\n"
     ]
    }
   ],
   "source": [
    "task = 'sst2'\n",
    "dataset = load_dataset('glue', task)"
   ]
  },
  {
   "cell_type": "markdown",
   "id": "326544d7-87c8-4e99-9d4f-f8f8ca1cc917",
   "metadata": {},
   "source": [
    "**Load specific metric pertaining to the dataset**"
   ]
  },
  {
   "cell_type": "code",
   "execution_count": 7,
   "id": "a563911f-6701-4cc7-ac94-dcd71ef7d331",
   "metadata": {},
   "outputs": [],
   "source": [
    "metric = load_metric('glue', task)"
   ]
  },
  {
   "cell_type": "markdown",
   "id": "5955b14b-d930-4108-9efe-9be0148669ae",
   "metadata": {},
   "source": [
    "**Inspect dataset**\n",
    "\n",
    "We look quickly into the dataset."
   ]
  },
  {
   "cell_type": "code",
   "execution_count": 8,
   "id": "84eff354-ec67-4335-8fe7-3d3623ceb089",
   "metadata": {},
   "outputs": [
    {
     "name": "stdout",
     "output_type": "stream",
     "text": [
      "['hide new secretions from the parental units ', 'contains no wit , only labored gags ', 'that loves its characters and communicates something rather beautiful about human nature ']\n"
     ]
    }
   ],
   "source": [
    "print(dataset['train'][:3]['sentence'])"
   ]
  },
  {
   "cell_type": "markdown",
   "id": "e224a5a1-afb2-456f-9e60-fd942ba6cd84",
   "metadata": {},
   "source": [
    "**Define preprocessing function for the dataset with the tokenizer**\n",
    "\n",
    "The raw text data from the dataset will be preprocessed with the respective tokenizer corresponding to the DistilBERT model. \n",
    "\n",
    "Preprocessing involves tokenization of the input data, conversion of the tokens to their respective IDs in the pretrained vocabulary, adjustment of the format to the expectation of the model, and the generation of other input values required by the model. Furthermore, the input sequences will be padded."
   ]
  },
  {
   "cell_type": "code",
   "execution_count": 9,
   "id": "405efe62-a20b-4591-bc9a-debb1ce8dc34",
   "metadata": {},
   "outputs": [],
   "source": [
    "max_seq_length = min(128, tokenizer.model_max_length)\n",
    "padding = 'max_length'\n",
    "\n",
    "def preprocess_function(examples):    \n",
    "    return tokenizer(examples['sentence'], truncation=True, padding=padding, max_length=max_seq_length)"
   ]
  },
  {
   "cell_type": "markdown",
   "id": "16e2a050-cc8d-48b1-8edd-695558e5094f",
   "metadata": {},
   "source": [
    "**Encode dataset with tokenizer**\n",
    "\n",
    "The map function comes in handy in order to preprocess the full dataset. It maps and applies the preprocess function defined above to each sentence in the dataset. The results are also cached."
   ]
  },
  {
   "cell_type": "code",
   "execution_count": 10,
   "id": "96810fd2-ff6c-4b78-8b67-8f52607d6e46",
   "metadata": {},
   "outputs": [
    {
     "name": "stderr",
     "output_type": "stream",
     "text": [
      "2022-09-19 23:49:57 [WARNING] Loading cached processed dataset at /home/sdp/.cache/huggingface/datasets/glue/sst2/1.0.0/dacbe3125aa31d7f70367a07a8a9e72a5a0bfeb5fc42e75c9db75b96da6053ad/cache-335e60022954bacc.arrow\n",
      "2022-09-19 23:49:57 [WARNING] Loading cached processed dataset at /home/sdp/.cache/huggingface/datasets/glue/sst2/1.0.0/dacbe3125aa31d7f70367a07a8a9e72a5a0bfeb5fc42e75c9db75b96da6053ad/cache-3052123b7a79afff.arrow\n",
      "100%|███████████████████████████████████████████████████████████████████████████████████████████████████████████████████████████| 2/2 [00:00<00:00,  9.33ba/s]\n"
     ]
    }
   ],
   "source": [
    "encoded_dataset = dataset.map(preprocess_function, batched=True)"
   ]
  },
  {
   "cell_type": "markdown",
   "id": "f6bf259e-9983-412c-b8ef-1913bc7eba00",
   "metadata": {},
   "source": [
    "**Inspect encoded dataset**\n",
    "\n",
    "Again, we quickly look at the preprocessed data."
   ]
  },
  {
   "cell_type": "code",
   "execution_count": 11,
   "id": "8454482a-c6c4-4bc0-be45-e9d1392823cc",
   "metadata": {},
   "outputs": [
    {
     "name": "stdout",
     "output_type": "stream",
     "text": [
      "{'sentence': ['hide new secretions from the parental units ', 'contains no wit , only labored gags ', 'that loves its characters and communicates something rather beautiful about human nature '], 'label': [0, 0, 1], 'idx': [0, 1, 2], 'input_ids': [[101, 5342, 2047, 3595, 8496, 2013, 1996, 18643, 3197, 102, 0, 0, 0, 0, 0, 0, 0, 0, 0, 0, 0, 0, 0, 0, 0, 0, 0, 0, 0, 0, 0, 0, 0, 0, 0, 0, 0, 0, 0, 0, 0, 0, 0, 0, 0, 0, 0, 0, 0, 0, 0, 0, 0, 0, 0, 0, 0, 0, 0, 0, 0, 0, 0, 0, 0, 0, 0, 0, 0, 0, 0, 0, 0, 0, 0, 0, 0, 0, 0, 0, 0, 0, 0, 0, 0, 0, 0, 0, 0, 0, 0, 0, 0, 0, 0, 0, 0, 0, 0, 0, 0, 0, 0, 0, 0, 0, 0, 0, 0, 0, 0, 0, 0, 0, 0, 0, 0, 0, 0, 0, 0, 0, 0, 0, 0, 0, 0, 0], [101, 3397, 2053, 15966, 1010, 2069, 4450, 2098, 18201, 2015, 102, 0, 0, 0, 0, 0, 0, 0, 0, 0, 0, 0, 0, 0, 0, 0, 0, 0, 0, 0, 0, 0, 0, 0, 0, 0, 0, 0, 0, 0, 0, 0, 0, 0, 0, 0, 0, 0, 0, 0, 0, 0, 0, 0, 0, 0, 0, 0, 0, 0, 0, 0, 0, 0, 0, 0, 0, 0, 0, 0, 0, 0, 0, 0, 0, 0, 0, 0, 0, 0, 0, 0, 0, 0, 0, 0, 0, 0, 0, 0, 0, 0, 0, 0, 0, 0, 0, 0, 0, 0, 0, 0, 0, 0, 0, 0, 0, 0, 0, 0, 0, 0, 0, 0, 0, 0, 0, 0, 0, 0, 0, 0, 0, 0, 0, 0, 0, 0], [101, 2008, 7459, 2049, 3494, 1998, 10639, 2015, 2242, 2738, 3376, 2055, 2529, 3267, 102, 0, 0, 0, 0, 0, 0, 0, 0, 0, 0, 0, 0, 0, 0, 0, 0, 0, 0, 0, 0, 0, 0, 0, 0, 0, 0, 0, 0, 0, 0, 0, 0, 0, 0, 0, 0, 0, 0, 0, 0, 0, 0, 0, 0, 0, 0, 0, 0, 0, 0, 0, 0, 0, 0, 0, 0, 0, 0, 0, 0, 0, 0, 0, 0, 0, 0, 0, 0, 0, 0, 0, 0, 0, 0, 0, 0, 0, 0, 0, 0, 0, 0, 0, 0, 0, 0, 0, 0, 0, 0, 0, 0, 0, 0, 0, 0, 0, 0, 0, 0, 0, 0, 0, 0, 0, 0, 0, 0, 0, 0, 0, 0, 0]], 'attention_mask': [[1, 1, 1, 1, 1, 1, 1, 1, 1, 1, 0, 0, 0, 0, 0, 0, 0, 0, 0, 0, 0, 0, 0, 0, 0, 0, 0, 0, 0, 0, 0, 0, 0, 0, 0, 0, 0, 0, 0, 0, 0, 0, 0, 0, 0, 0, 0, 0, 0, 0, 0, 0, 0, 0, 0, 0, 0, 0, 0, 0, 0, 0, 0, 0, 0, 0, 0, 0, 0, 0, 0, 0, 0, 0, 0, 0, 0, 0, 0, 0, 0, 0, 0, 0, 0, 0, 0, 0, 0, 0, 0, 0, 0, 0, 0, 0, 0, 0, 0, 0, 0, 0, 0, 0, 0, 0, 0, 0, 0, 0, 0, 0, 0, 0, 0, 0, 0, 0, 0, 0, 0, 0, 0, 0, 0, 0, 0, 0], [1, 1, 1, 1, 1, 1, 1, 1, 1, 1, 1, 0, 0, 0, 0, 0, 0, 0, 0, 0, 0, 0, 0, 0, 0, 0, 0, 0, 0, 0, 0, 0, 0, 0, 0, 0, 0, 0, 0, 0, 0, 0, 0, 0, 0, 0, 0, 0, 0, 0, 0, 0, 0, 0, 0, 0, 0, 0, 0, 0, 0, 0, 0, 0, 0, 0, 0, 0, 0, 0, 0, 0, 0, 0, 0, 0, 0, 0, 0, 0, 0, 0, 0, 0, 0, 0, 0, 0, 0, 0, 0, 0, 0, 0, 0, 0, 0, 0, 0, 0, 0, 0, 0, 0, 0, 0, 0, 0, 0, 0, 0, 0, 0, 0, 0, 0, 0, 0, 0, 0, 0, 0, 0, 0, 0, 0, 0, 0], [1, 1, 1, 1, 1, 1, 1, 1, 1, 1, 1, 1, 1, 1, 1, 0, 0, 0, 0, 0, 0, 0, 0, 0, 0, 0, 0, 0, 0, 0, 0, 0, 0, 0, 0, 0, 0, 0, 0, 0, 0, 0, 0, 0, 0, 0, 0, 0, 0, 0, 0, 0, 0, 0, 0, 0, 0, 0, 0, 0, 0, 0, 0, 0, 0, 0, 0, 0, 0, 0, 0, 0, 0, 0, 0, 0, 0, 0, 0, 0, 0, 0, 0, 0, 0, 0, 0, 0, 0, 0, 0, 0, 0, 0, 0, 0, 0, 0, 0, 0, 0, 0, 0, 0, 0, 0, 0, 0, 0, 0, 0, 0, 0, 0, 0, 0, 0, 0, 0, 0, 0, 0, 0, 0, 0, 0, 0, 0]]}\n",
      "----------------------------------------------------------------------------------------------------------------------------------------------------------------\n",
      "The dataset's train split consists of 67349 sentences.\n",
      "The dataset's validation split consists of 872 sentences.\n",
      "The dataset's test split consists of 1821 sentences.\n"
     ]
    }
   ],
   "source": [
    "print(encoded_dataset['train'][:3])\n",
    "print('--'*80)\n",
    "print(f\"The dataset's train split consists of {len(encoded_dataset['train'])} sentences.\")\n",
    "print(f\"The dataset's validation split consists of {len(encoded_dataset['validation'])} sentences.\")\n",
    "print(f\"The dataset's test split consists of {len(encoded_dataset['test'])} sentences.\")"
   ]
  },
  {
   "cell_type": "markdown",
   "id": "264826cb-0fe7-41a7-8200-f90bc19a542a",
   "metadata": {},
   "source": [
    "**Define metric name & training arguments**"
   ]
  },
  {
   "cell_type": "code",
   "execution_count": 12,
   "id": "357025a8-4798-42eb-9e80-f3de4d5bc268",
   "metadata": {},
   "outputs": [],
   "source": [
    "metric_name = 'accuracy'\n",
    "\n",
    "args = TrainingArguments(\n",
    "    output_dir = 'distilbert_sst2',\n",
    "    evaluation_strategy = 'epoch',\n",
    "    save_strategy = 'epoch',\n",
    "    learning_rate=2e-5,\n",
    "    per_device_train_batch_size=batch_size,\n",
    "    per_device_eval_batch_size=batch_size,\n",
    "    num_train_epochs=5,\n",
    "    weight_decay=0.01,\n",
    "    load_best_model_at_end=True,\n",
    "    metric_for_best_model=metric_name,\n",
    "    push_to_hub=False,\n",
    "    dataloader_drop_last=True\n",
    ")"
   ]
  },
  {
   "cell_type": "markdown",
   "id": "20281012-a836-4e3b-9ae7-498feffcd415",
   "metadata": {},
   "source": [
    "**Define compute function for the metric**"
   ]
  },
  {
   "cell_type": "code",
   "execution_count": 13,
   "id": "78a26fe1-2bc2-4ca3-9840-b6c24fca79f2",
   "metadata": {},
   "outputs": [],
   "source": [
    "def compute_metrics(eval_pred):\n",
    "    predictions, labels = eval_pred\n",
    "    predictions = np.argmax(predictions, axis=1)\n",
    "    return metric.compute(predictions=predictions, references=labels)"
   ]
  },
  {
   "cell_type": "markdown",
   "id": "82d0a35f-6df3-42ec-bdeb-dc985d9a9fca",
   "metadata": {},
   "source": [
    "**Set up the trainer**"
   ]
  },
  {
   "cell_type": "code",
   "execution_count": 14,
   "id": "951d1d6d-7949-48f7-bcb1-4a8bac085fdd",
   "metadata": {},
   "outputs": [],
   "source": [
    "set_seed(42)\n",
    "\n",
    "train_dataset = encoded_dataset['train'].select(range(max_train_samples))\n",
    "\n",
    "trainer = Trainer(\n",
    "    fp_model,\n",
    "    args,\n",
    "    train_dataset=train_dataset,\n",
    "    eval_dataset=encoded_dataset['validation'],\n",
    "    tokenizer=tokenizer,\n",
    "    compute_metrics=compute_metrics,\n",
    "    data_collator = default_data_collator\n",
    ")"
   ]
  },
  {
   "cell_type": "markdown",
   "id": "9f2cffee-80d8-4b83-8279-ab3716bb7430",
   "metadata": {},
   "source": [
    "**Train the model**\n",
    "\n",
    "We train the model for this use case briefly, i.e., 5 epochs, and with a very limited number of training samples (i.e., set as a hyperparameter, cf. above)."
   ]
  },
  {
   "cell_type": "code",
   "execution_count": 15,
   "id": "8c67883b-c031-4348-9119-389d619431bf",
   "metadata": {},
   "outputs": [
    {
     "name": "stderr",
     "output_type": "stream",
     "text": [
      "The following columns in the training set don't have a corresponding argument in `DistilBertForSequenceClassification.forward` and have been ignored: sentence, idx. If sentence, idx are not expected by `DistilBertForSequenceClassification.forward`,  you can safely ignore this message.\n",
      "/home/sdp/anaconda3/envs/inc/lib/python3.9/site-packages/transformers/optimization.py:306: FutureWarning: This implementation of AdamW is deprecated and will be removed in a future version. Use the PyTorch implementation torch.optim.AdamW instead, or set `no_deprecation_warning=True` to disable this warning\n",
      "  warnings.warn(\n",
      "***** Running training *****\n",
      "  Num examples = 100\n",
      "  Num Epochs = 5\n",
      "  Instantaneous batch size per device = 16\n",
      "  Total train batch size (w. parallel, distributed & accumulation) = 16\n",
      "  Gradient Accumulation steps = 1\n",
      "  Total optimization steps = 30\n"
     ]
    },
    {
     "data": {
      "text/html": [
       "\n",
       "    <div>\n",
       "      \n",
       "      <progress value='30' max='30' style='width:300px; height:20px; vertical-align: middle;'></progress>\n",
       "      [30/30 00:41, Epoch 5/5]\n",
       "    </div>\n",
       "    <table border=\"1\" class=\"dataframe\">\n",
       "  <thead>\n",
       " <tr style=\"text-align: left;\">\n",
       "      <th>Epoch</th>\n",
       "      <th>Training Loss</th>\n",
       "      <th>Validation Loss</th>\n",
       "      <th>Accuracy</th>\n",
       "    </tr>\n",
       "  </thead>\n",
       "  <tbody>\n",
       "    <tr>\n",
       "      <td>1</td>\n",
       "      <td>No log</td>\n",
       "      <td>0.437893</td>\n",
       "      <td>0.901620</td>\n",
       "    </tr>\n",
       "    <tr>\n",
       "      <td>2</td>\n",
       "      <td>No log</td>\n",
       "      <td>0.452192</td>\n",
       "      <td>0.900463</td>\n",
       "    </tr>\n",
       "    <tr>\n",
       "      <td>3</td>\n",
       "      <td>No log</td>\n",
       "      <td>0.467129</td>\n",
       "      <td>0.902778</td>\n",
       "    </tr>\n",
       "    <tr>\n",
       "      <td>4</td>\n",
       "      <td>No log</td>\n",
       "      <td>0.475055</td>\n",
       "      <td>0.901620</td>\n",
       "    </tr>\n",
       "    <tr>\n",
       "      <td>5</td>\n",
       "      <td>No log</td>\n",
       "      <td>0.477549</td>\n",
       "      <td>0.901620</td>\n",
       "    </tr>\n",
       "  </tbody>\n",
       "</table><p>"
      ],
      "text/plain": [
       "<IPython.core.display.HTML object>"
      ]
     },
     "metadata": {},
     "output_type": "display_data"
    },
    {
     "name": "stderr",
     "output_type": "stream",
     "text": [
      "The following columns in the evaluation set don't have a corresponding argument in `DistilBertForSequenceClassification.forward` and have been ignored: sentence, idx. If sentence, idx are not expected by `DistilBertForSequenceClassification.forward`,  you can safely ignore this message.\n",
      "***** Running Evaluation *****\n",
      "  Num examples = 872\n",
      "  Batch size = 16\n",
      "Saving model checkpoint to distilbert_sst2/checkpoint-6\n",
      "Configuration saved in distilbert_sst2/checkpoint-6/config.json\n",
      "Model weights saved in distilbert_sst2/checkpoint-6/pytorch_model.bin\n",
      "tokenizer config file saved in distilbert_sst2/checkpoint-6/tokenizer_config.json\n",
      "Special tokens file saved in distilbert_sst2/checkpoint-6/special_tokens_map.json\n",
      "The following columns in the evaluation set don't have a corresponding argument in `DistilBertForSequenceClassification.forward` and have been ignored: sentence, idx. If sentence, idx are not expected by `DistilBertForSequenceClassification.forward`,  you can safely ignore this message.\n",
      "***** Running Evaluation *****\n",
      "  Num examples = 872\n",
      "  Batch size = 16\n",
      "Saving model checkpoint to distilbert_sst2/checkpoint-12\n",
      "Configuration saved in distilbert_sst2/checkpoint-12/config.json\n",
      "Model weights saved in distilbert_sst2/checkpoint-12/pytorch_model.bin\n",
      "tokenizer config file saved in distilbert_sst2/checkpoint-12/tokenizer_config.json\n",
      "Special tokens file saved in distilbert_sst2/checkpoint-12/special_tokens_map.json\n",
      "The following columns in the evaluation set don't have a corresponding argument in `DistilBertForSequenceClassification.forward` and have been ignored: sentence, idx. If sentence, idx are not expected by `DistilBertForSequenceClassification.forward`,  you can safely ignore this message.\n",
      "***** Running Evaluation *****\n",
      "  Num examples = 872\n",
      "  Batch size = 16\n",
      "Saving model checkpoint to distilbert_sst2/checkpoint-18\n",
      "Configuration saved in distilbert_sst2/checkpoint-18/config.json\n",
      "Model weights saved in distilbert_sst2/checkpoint-18/pytorch_model.bin\n",
      "tokenizer config file saved in distilbert_sst2/checkpoint-18/tokenizer_config.json\n",
      "Special tokens file saved in distilbert_sst2/checkpoint-18/special_tokens_map.json\n",
      "The following columns in the evaluation set don't have a corresponding argument in `DistilBertForSequenceClassification.forward` and have been ignored: sentence, idx. If sentence, idx are not expected by `DistilBertForSequenceClassification.forward`,  you can safely ignore this message.\n",
      "***** Running Evaluation *****\n",
      "  Num examples = 872\n",
      "  Batch size = 16\n",
      "Saving model checkpoint to distilbert_sst2/checkpoint-24\n",
      "Configuration saved in distilbert_sst2/checkpoint-24/config.json\n",
      "Model weights saved in distilbert_sst2/checkpoint-24/pytorch_model.bin\n",
      "tokenizer config file saved in distilbert_sst2/checkpoint-24/tokenizer_config.json\n",
      "Special tokens file saved in distilbert_sst2/checkpoint-24/special_tokens_map.json\n",
      "The following columns in the evaluation set don't have a corresponding argument in `DistilBertForSequenceClassification.forward` and have been ignored: sentence, idx. If sentence, idx are not expected by `DistilBertForSequenceClassification.forward`,  you can safely ignore this message.\n",
      "***** Running Evaluation *****\n",
      "  Num examples = 872\n",
      "  Batch size = 16\n",
      "Saving model checkpoint to distilbert_sst2/checkpoint-30\n",
      "Configuration saved in distilbert_sst2/checkpoint-30/config.json\n",
      "Model weights saved in distilbert_sst2/checkpoint-30/pytorch_model.bin\n",
      "tokenizer config file saved in distilbert_sst2/checkpoint-30/tokenizer_config.json\n",
      "Special tokens file saved in distilbert_sst2/checkpoint-30/special_tokens_map.json\n",
      "\n",
      "\n",
      "Training completed. Do not forget to share your model on huggingface.co/models =)\n",
      "\n",
      "\n",
      "Loading best model from distilbert_sst2/checkpoint-18 (score: 0.9027777777777778).\n"
     ]
    },
    {
     "name": "stdout",
     "output_type": "stream",
     "text": [
      "Training took 42.1s.\n"
     ]
    }
   ],
   "source": [
    "start = time.time()\n",
    "trainer.train()\n",
    "end = time.time()\n",
    "print(f\"Training took {round(end-start, 2)}s.\")"
   ]
  },
  {
   "cell_type": "markdown",
   "id": "95c4b37d-17d6-478d-91d9-a3d593eea560",
   "metadata": {},
   "source": [
    "**Set up evalutation function & evaluate the newly trained, full-precision model**"
   ]
  },
  {
   "cell_type": "code",
   "execution_count": 16,
   "id": "b8c70ab2-5f8d-4c3c-a030-b81ec763396c",
   "metadata": {},
   "outputs": [
    {
     "name": "stderr",
     "output_type": "stream",
     "text": [
      "The following columns in the evaluation set don't have a corresponding argument in `DistilBertForSequenceClassification.forward` and have been ignored: sentence, idx. If sentence, idx are not expected by `DistilBertForSequenceClassification.forward`,  you can safely ignore this message.\n",
      "***** Running Evaluation *****\n",
      "  Num examples = 872\n",
      "  Batch size = 16\n"
     ]
    },
    {
     "data": {
      "text/html": [
       "\n",
       "    <div>\n",
       "      \n",
       "      <progress value='1188' max='54' style='width:300px; height:20px; vertical-align: middle;'></progress>\n",
       "      [54/54 01:10]\n",
       "    </div>\n",
       "    "
      ],
      "text/plain": [
       "<IPython.core.display.HTML object>"
      ]
     },
     "metadata": {},
     "output_type": "display_data"
    },
    {
     "name": "stderr",
     "output_type": "stream",
     "text": [
      "The following columns in the evaluation set don't have a corresponding argument in `DistilBertForSequenceClassification.forward` and have been ignored: sentence, idx. If sentence, idx are not expected by `DistilBertForSequenceClassification.forward`,  you can safely ignore this message.\n",
      "***** Running Evaluation *****\n",
      "  Num examples = 872\n",
      "  Batch size = 16\n",
      "The following columns in the evaluation set don't have a corresponding argument in `DistilBertForSequenceClassification.forward` and have been ignored: sentence, idx. If sentence, idx are not expected by `DistilBertForSequenceClassification.forward`,  you can safely ignore this message.\n",
      "***** Running Evaluation *****\n",
      "  Num examples = 872\n",
      "  Batch size = 16\n",
      "The following columns in the evaluation set don't have a corresponding argument in `DistilBertForSequenceClassification.forward` and have been ignored: sentence, idx. If sentence, idx are not expected by `DistilBertForSequenceClassification.forward`,  you can safely ignore this message.\n",
      "***** Running Evaluation *****\n",
      "  Num examples = 872\n",
      "  Batch size = 16\n",
      "The following columns in the evaluation set don't have a corresponding argument in `DistilBertForSequenceClassification.forward` and have been ignored: sentence, idx. If sentence, idx are not expected by `DistilBertForSequenceClassification.forward`,  you can safely ignore this message.\n",
      "***** Running Evaluation *****\n",
      "  Num examples = 872\n",
      "  Batch size = 16\n",
      "The following columns in the evaluation set don't have a corresponding argument in `DistilBertForSequenceClassification.forward` and have been ignored: sentence, idx. If sentence, idx are not expected by `DistilBertForSequenceClassification.forward`,  you can safely ignore this message.\n",
      "***** Running Evaluation *****\n",
      "  Num examples = 872\n",
      "  Batch size = 16\n",
      "The following columns in the evaluation set don't have a corresponding argument in `DistilBertForSequenceClassification.forward` and have been ignored: sentence, idx. If sentence, idx are not expected by `DistilBertForSequenceClassification.forward`,  you can safely ignore this message.\n",
      "***** Running Evaluation *****\n",
      "  Num examples = 872\n",
      "  Batch size = 16\n",
      "The following columns in the evaluation set don't have a corresponding argument in `DistilBertForSequenceClassification.forward` and have been ignored: sentence, idx. If sentence, idx are not expected by `DistilBertForSequenceClassification.forward`,  you can safely ignore this message.\n",
      "***** Running Evaluation *****\n",
      "  Num examples = 872\n",
      "  Batch size = 16\n",
      "The following columns in the evaluation set don't have a corresponding argument in `DistilBertForSequenceClassification.forward` and have been ignored: sentence, idx. If sentence, idx are not expected by `DistilBertForSequenceClassification.forward`,  you can safely ignore this message.\n",
      "***** Running Evaluation *****\n",
      "  Num examples = 872\n",
      "  Batch size = 16\n",
      "The following columns in the evaluation set don't have a corresponding argument in `DistilBertForSequenceClassification.forward` and have been ignored: sentence, idx. If sentence, idx are not expected by `DistilBertForSequenceClassification.forward`,  you can safely ignore this message.\n",
      "***** Running Evaluation *****\n",
      "  Num examples = 872\n",
      "  Batch size = 16\n"
     ]
    },
    {
     "name": "stdout",
     "output_type": "stream",
     "text": [
      "The full-precision model has an accuracy of 90.28%.\n",
      "Evaluation with the full-precision model took in average 3.52s.\n",
      "The average latency is: 4.03ms.\n"
     ]
    }
   ],
   "source": [
    "metric_name = 'eval_accuracy'\n",
    "\n",
    "def eval_func(model):\n",
    "    trainer.model = model\n",
    "    metrics = trainer.evaluate()\n",
    "    return metrics.get(metric_name)\n",
    "\n",
    "l_all = 0\n",
    "t_all = 0\n",
    "\n",
    "for _ in range(10):\n",
    "    \n",
    "    start = time.time()\n",
    "    fp_model_result = eval_func(fp_model)\n",
    "    end = time.time()\n",
    "    fp_model_eval = end-start\n",
    "\n",
    "    fp_model_latency = round(round(fp_model_eval, 2)/len(encoded_dataset['validation'])*1000, 2)\n",
    "    \n",
    "    l_all += fp_model_latency\n",
    "    t_all += fp_model_eval\n",
    "\n",
    "fp_l_avg = round(l_all/10, 2)\n",
    "fp_t_avg = round(t_all/10, 2)\n",
    "print(f\"The full-precision model has an accuracy of {round(fp_model_result * 100, 2)}%.\")\n",
    "print(f\"Evaluation with the full-precision model took in average {fp_t_avg}s.\")\n",
    "print(f\"The average latency is: {fp_l_avg}ms.\")"
   ]
  },
  {
   "cell_type": "markdown",
   "id": "1bb427b5-9a20-449a-8342-205e0eed7002",
   "metadata": {},
   "source": [
    "**Quantization**"
   ]
  },
  {
   "cell_type": "markdown",
   "id": "67a775c7-1aea-4d67-92aa-8bb1e8243b1c",
   "metadata": {},
   "source": [
    "We perform [post training static quantization](https://github.com/intel/neural-compressor/blob/master/docs/PTQ.md), from the full-precision FP32 to a reduced precision INT8 model. The quantization procedure needs a yaml config file where the most basic configuration parameters are stored. Also, the evaluation function defined above, as well as calibration data from the dataset are needed.\n",
    "\n",
    "Usually, quantization results in a smaller model size, and hence, in improved performance at the inference step. However, small trade-offs in the model's accuracy, compared with the full-precision model, can be expected as well.\n",
    "\n",
    "INC provides foremost automatic accuracy-driven tuning strategies, enabling the user to decide on an acceptable trade-off in accuracy, which can be set individually through the config file. In this example, a conservative, strict approach is chosen, with only a minimal impact on accuracy."
   ]
  },
  {
   "cell_type": "code",
   "execution_count": 17,
   "id": "931e28e3-6b3d-424b-974b-141c7a91948b",
   "metadata": {},
   "outputs": [
    {
     "name": "stderr",
     "output_type": "stream",
     "text": [
      "The following columns in the training set don't have a corresponding argument in `DistilBertForSequenceClassification.forward` and have been ignored: sentence, idx. If sentence, idx are not expected by `DistilBertForSequenceClassification.forward`,  you can safely ignore this message.\n",
      "2022-09-19 23:51:15 [INFO] Pass query framework capability elapsed time: 272.3 ms\n",
      "2022-09-19 23:51:15 [INFO] Get FP32 model baseline.\n",
      "The following columns in the evaluation set don't have a corresponding argument in `DistilBertForSequenceClassification.forward` and have been ignored: sentence, idx. If sentence, idx are not expected by `DistilBertForSequenceClassification.forward`,  you can safely ignore this message.\n",
      "***** Running Evaluation *****\n",
      "  Num examples = 872\n",
      "  Batch size = 16\n",
      "2022-09-19 23:51:18 [INFO] Save tuning history to /home/sdp/inc/nc_workspace/2022-09-19_23-49-53/./history.snapshot.\n",
      "2022-09-19 23:51:18 [INFO] FP32 baseline is: [Accuracy: 0.9028, Duration (seconds): 3.5228]\n",
      "2022-09-19 23:51:18 [INFO] Fx trace of the entire model failed, We will conduct auto quantization\n",
      "2022-09-19 23:51:18 [WARNING] Please note that calibration sampling size 100 isn't divisible exactly by batch size 16. So the real sampling size is 112.\n",
      "/home/sdp/anaconda3/envs/inc/lib/python3.9/site-packages/torch/ao/quantization/observer.py:886: UserWarning: __floordiv__ is deprecated, and its behavior will change in a future version of pytorch. It currently rounds toward 0 (like the 'trunc' function NOT 'floor'). This results in incorrect rounding for negative values. To keep the current behavior, use torch.div(a, b, rounding_mode='trunc'), or for actual floor division, use torch.div(a, b, rounding_mode='floor').\n",
      "  src_bin_begin // dst_bin_width, 0, self.dst_nbins - 1\n",
      "/home/sdp/anaconda3/envs/inc/lib/python3.9/site-packages/torch/ao/quantization/observer.py:891: UserWarning: __floordiv__ is deprecated, and its behavior will change in a future version of pytorch. It currently rounds toward 0 (like the 'trunc' function NOT 'floor'). This results in incorrect rounding for negative values. To keep the current behavior, use torch.div(a, b, rounding_mode='trunc'), or for actual floor division, use torch.div(a, b, rounding_mode='floor').\n",
      "  src_bin_end // dst_bin_width, 0, self.dst_nbins - 1\n",
      "2022-09-19 23:51:23 [INFO] |*********Mixed Precision Statistics********|\n",
      "2022-09-19 23:51:23 [INFO] +---------------------+-------+------+------+\n",
      "2022-09-19 23:51:23 [INFO] |       Op Type       | Total | INT8 | FP32 |\n",
      "2022-09-19 23:51:23 [INFO] +---------------------+-------+------+------+\n",
      "2022-09-19 23:51:23 [INFO] |      Embedding      |   2   |  2   |  0   |\n",
      "2022-09-19 23:51:23 [INFO] |      LayerNorm      |   13  |  0   |  13  |\n",
      "2022-09-19 23:51:23 [INFO] | quantize_per_tensor |   38  |  38  |  0   |\n",
      "2022-09-19 23:51:23 [INFO] |        Linear       |   38  |  38  |  0   |\n",
      "2022-09-19 23:51:23 [INFO] |      dequantize     |   38  |  38  |  0   |\n",
      "2022-09-19 23:51:23 [INFO] +---------------------+-------+------+------+\n",
      "2022-09-19 23:51:23 [INFO] Pass quantize model elapsed time: 4437.25 ms\n",
      "The following columns in the evaluation set don't have a corresponding argument in `DistilBertForSequenceClassification.forward` and have been ignored: sentence, idx. If sentence, idx are not expected by `DistilBertForSequenceClassification.forward`,  you can safely ignore this message.\n",
      "***** Running Evaluation *****\n",
      "  Num examples = 872\n",
      "  Batch size = 16\n",
      "2022-09-19 23:51:25 [INFO] Tune 1 result is: [Accuracy (int8|fp32): 0.9028|0.9028, Duration (seconds) (int8|fp32): 2.4848|3.5228], Best tune result is: [Accuracy: 0.9028, Duration (seconds): 2.4848]\n",
      "2022-09-19 23:51:25 [INFO] |**********************Tune Result Statistics**********************|\n",
      "2022-09-19 23:51:25 [INFO] +--------------------+----------+---------------+------------------+\n",
      "2022-09-19 23:51:25 [INFO] |     Info Type      | Baseline | Tune 1 result | Best tune result |\n",
      "2022-09-19 23:51:25 [INFO] +--------------------+----------+---------------+------------------+\n",
      "2022-09-19 23:51:25 [INFO] |      Accuracy      | 0.9028   |    0.9028     |     0.9028       |\n",
      "2022-09-19 23:51:25 [INFO] | Duration (seconds) | 3.5228   |    2.4848     |     2.4848       |\n",
      "2022-09-19 23:51:25 [INFO] +--------------------+----------+---------------+------------------+\n",
      "2022-09-19 23:51:25 [INFO] Save tuning history to /home/sdp/inc/nc_workspace/2022-09-19_23-49-53/./history.snapshot.\n",
      "2022-09-19 23:51:25 [INFO] Specified timeout or max trials is reached! Found a quantized model which meet accuracy goal. Exit.\n",
      "2022-09-19 23:51:25 [INFO] Save deploy yaml to /home/sdp/inc/nc_workspace/2022-09-19_23-49-53/deploy.yaml\n"
     ]
    },
    {
     "name": "stdout",
     "output_type": "stream",
     "text": [
      "Quantization took 10.85s.\n"
     ]
    }
   ],
   "source": [
    "train_dataloader = trainer.get_train_dataloader()\n",
    "\n",
    "quantizer = Quantization('./conf.yaml')\n",
    "quantizer.eval_func = eval_func\n",
    "quantizer.calib_dataloader = train_dataloader\n",
    "quantizer.model = common.Model(fp_model)\n",
    "\n",
    "start = time.time()\n",
    "q_model = quantizer.fit()\n",
    "end = time.time()\n",
    "print(f\"Quantization took {round(end-start, 2)}s.\")"
   ]
  },
  {
   "cell_type": "markdown",
   "id": "32cd7f39-b587-42fa-85eb-8e0b56c869f1",
   "metadata": {},
   "source": [
    "**Evaluate the quantized model & compare it with the full-precision model**"
   ]
  },
  {
   "cell_type": "code",
   "execution_count": 18,
   "id": "5e694dca-9389-4f76-aa85-37cf6484fc7a",
   "metadata": {},
   "outputs": [
    {
     "name": "stderr",
     "output_type": "stream",
     "text": [
      "The following columns in the evaluation set don't have a corresponding argument in `DistilBertForSequenceClassification.forward` and have been ignored: sentence, idx. If sentence, idx are not expected by `DistilBertForSequenceClassification.forward`,  you can safely ignore this message.\n",
      "***** Running Evaluation *****\n",
      "  Num examples = 872\n",
      "  Batch size = 16\n",
      "The following columns in the evaluation set don't have a corresponding argument in `DistilBertForSequenceClassification.forward` and have been ignored: sentence, idx. If sentence, idx are not expected by `DistilBertForSequenceClassification.forward`,  you can safely ignore this message.\n",
      "***** Running Evaluation *****\n",
      "  Num examples = 872\n",
      "  Batch size = 16\n",
      "The following columns in the evaluation set don't have a corresponding argument in `DistilBertForSequenceClassification.forward` and have been ignored: sentence, idx. If sentence, idx are not expected by `DistilBertForSequenceClassification.forward`,  you can safely ignore this message.\n",
      "***** Running Evaluation *****\n",
      "  Num examples = 872\n",
      "  Batch size = 16\n",
      "The following columns in the evaluation set don't have a corresponding argument in `DistilBertForSequenceClassification.forward` and have been ignored: sentence, idx. If sentence, idx are not expected by `DistilBertForSequenceClassification.forward`,  you can safely ignore this message.\n",
      "***** Running Evaluation *****\n",
      "  Num examples = 872\n",
      "  Batch size = 16\n",
      "The following columns in the evaluation set don't have a corresponding argument in `DistilBertForSequenceClassification.forward` and have been ignored: sentence, idx. If sentence, idx are not expected by `DistilBertForSequenceClassification.forward`,  you can safely ignore this message.\n",
      "***** Running Evaluation *****\n",
      "  Num examples = 872\n",
      "  Batch size = 16\n",
      "The following columns in the evaluation set don't have a corresponding argument in `DistilBertForSequenceClassification.forward` and have been ignored: sentence, idx. If sentence, idx are not expected by `DistilBertForSequenceClassification.forward`,  you can safely ignore this message.\n",
      "***** Running Evaluation *****\n",
      "  Num examples = 872\n",
      "  Batch size = 16\n",
      "The following columns in the evaluation set don't have a corresponding argument in `DistilBertForSequenceClassification.forward` and have been ignored: sentence, idx. If sentence, idx are not expected by `DistilBertForSequenceClassification.forward`,  you can safely ignore this message.\n",
      "***** Running Evaluation *****\n",
      "  Num examples = 872\n",
      "  Batch size = 16\n",
      "The following columns in the evaluation set don't have a corresponding argument in `DistilBertForSequenceClassification.forward` and have been ignored: sentence, idx. If sentence, idx are not expected by `DistilBertForSequenceClassification.forward`,  you can safely ignore this message.\n",
      "***** Running Evaluation *****\n",
      "  Num examples = 872\n",
      "  Batch size = 16\n",
      "The following columns in the evaluation set don't have a corresponding argument in `DistilBertForSequenceClassification.forward` and have been ignored: sentence, idx. If sentence, idx are not expected by `DistilBertForSequenceClassification.forward`,  you can safely ignore this message.\n",
      "***** Running Evaluation *****\n",
      "  Num examples = 872\n",
      "  Batch size = 16\n",
      "The following columns in the evaluation set don't have a corresponding argument in `DistilBertForSequenceClassification.forward` and have been ignored: sentence, idx. If sentence, idx are not expected by `DistilBertForSequenceClassification.forward`,  you can safely ignore this message.\n",
      "***** Running Evaluation *****\n",
      "  Num examples = 872\n",
      "  Batch size = 16\n"
     ]
    },
    {
     "name": "stdout",
     "output_type": "stream",
     "text": [
      "The quantized model has an accuracy of 90.28%.\n",
      "This results in a drop of 0.0% in accuracy when compared to the full-precision model.\n",
      "Evaluation with the quantized model took in average 2.45s.\n",
      "The average latency is: 2.81ms.\n"
     ]
    }
   ],
   "source": [
    "l_all = 0\n",
    "t_all = 0\n",
    "\n",
    "for _ in range(10):\n",
    "\n",
    "    start = time.time()\n",
    "    q_model_result = eval_func(q_model.model)\n",
    "    end = time.time()\n",
    "    q_model_eval = end-start\n",
    "\n",
    "    q_model_latency = round(round(q_model_eval, 2)/len(encoded_dataset['validation'])*1000, 2)\n",
    "    \n",
    "    l_all += q_model_latency\n",
    "    t_all += q_model_eval\n",
    "    \n",
    "q_l_avg = round(l_all/10, 2)\n",
    "q_t_avg = round(t_all/10, 2)\n",
    "print(f\"The quantized model has an accuracy of {round(q_model_result * 100, 2)}%.\")\n",
    "print(f\"This results in a drop of {round((fp_model_result - q_model_result) * 100, 2)}% in accuracy when compared to the full-precision model.\")\n",
    "print(f\"Evaluation with the quantized model took in average {q_t_avg}s.\")\n",
    "print(f\"The average latency is: {q_l_avg}ms.\")"
   ]
  },
  {
   "cell_type": "markdown",
   "id": "048262df-9909-4884-805a-524caf684a19",
   "metadata": {},
   "source": [
    "Only a very minimal drop in accuracy can be observed in this example. In order to visualize the difference, we plot the accuracy of the full-precision and the quantized models respectively."
   ]
  },
  {
   "cell_type": "code",
   "execution_count": 19,
   "id": "3edb19d6-8d3c-4d07-a150-94831b312eaf",
   "metadata": {},
   "outputs": [],
   "source": [
    "def plotter(outputdict):\n",
    "    fig = plt.figure(figsize = (10, 5)) \n",
    "    plt.bar(outputdict.keys(),outputdict.values(),color='blue',width=0.4)\n",
    "    plt.xlabel('Model')\n",
    "    plt.ylabel('Accuracy')\n",
    "    plt.show()"
   ]
  },
  {
   "cell_type": "code",
   "execution_count": 20,
   "id": "e326f9bf-07f3-4098-a981-e0afe68077c4",
   "metadata": {},
   "outputs": [
    {
     "data": {
      "image/png": "[encoded data removed]",
      "text/plain": [
       "<Figure size 1000x500 with 1 Axes>"
      ]
     },
     "metadata": {},
     "output_type": "display_data"
    }
   ],
   "source": [
    "outputDict={\"Full-precision\":fp_model_result,\"Quantized\":q_model_result}\n",
    "plotter(outputDict)"
   ]
  },
  {
   "cell_type": "markdown",
   "id": "aed47c81-943c-417b-9e53-a255f1dcd9a8",
   "metadata": {},
   "source": [
    "**Compare size of the full-precision and the quantized models**"
   ]
  },
  {
   "cell_type": "code",
   "execution_count": 21,
   "id": "05cd94b0-4c95-4a03-b785-cca852b6354f",
   "metadata": {},
   "outputs": [
    {
     "name": "stdout",
     "output_type": "stream",
     "text": [
      "The full-precision model size is 255 MB while the quantized model one is 65 MB.\n",
      "The quantized model is 3.93x smaller than the full-precision one.\n"
     ]
    }
   ],
   "source": [
    "def get_model_size(model):\n",
    "    torch.save(model.state_dict(), \"tmp.pt\")\n",
    "    model_size = os.path.getsize(\"tmp.pt\") / (1024*1024)\n",
    "    os.remove(\"tmp.pt\")\n",
    "    return round(model_size, 2)\n",
    "\n",
    "fp_model_size = get_model_size(fp_model) \n",
    "q_model_size = get_model_size(q_model.model) \n",
    "\n",
    "print(f\"The full-precision model size is {round(fp_model_size)} MB while the quantized model one is {round(q_model_size)} MB.\")\n",
    "print(f\"The quantized model is {round(fp_model_size / q_model_size, 2)}x smaller than the full-precision one.\")"
   ]
  },
  {
   "cell_type": "markdown",
   "id": "9783ff41-7872-4eb5-a514-70eff1dc9a03",
   "metadata": {},
   "source": [
    "A substantial reduction in the model size can be observed in this demo. Again, we plot the differences."
   ]
  },
  {
   "cell_type": "code",
   "execution_count": 22,
   "id": "59ff641a-49ac-4c02-990c-4a7536350e76",
   "metadata": {},
   "outputs": [],
   "source": [
    "def plotter(outputdict):\n",
    "    fig = plt.figure(figsize = (10, 5)) \n",
    "    plt.bar(outputdict.keys(),outputdict.values(),color='blue',width=0.4)\n",
    "    plt.xlabel(\"Model\")\n",
    "    plt.ylabel(\"Size (MB); lower is better\")\n",
    "    plt.show()"
   ]
  },
  {
   "cell_type": "code",
   "execution_count": 23,
   "id": "f3bfc81a-e072-4626-bf50-503423522e2e",
   "metadata": {},
   "outputs": [
    {
     "data": {
      "image/png": "[encoded data removed]",
      "text/plain": [
       "<Figure size 1000x500 with 1 Axes>"
      ]
     },
     "metadata": {},
     "output_type": "display_data"
    }
   ],
   "source": [
    "outputDict={\"Full-precision\":fp_model_size,\"Quantized\":q_model_size}\n",
    "plotter(outputDict)"
   ]
  },
  {
   "cell_type": "markdown",
   "id": "1089c474-c67a-4de4-aec8-39dfd00978c7",
   "metadata": {},
   "source": [
    "**Compare inference time of the model evalutation**\n",
    "\n",
    "The simple inference wall times of running the evaluation of the full-precision model and the quantized model are compared and plotted. "
   ]
  },
  {
   "cell_type": "code",
   "execution_count": 24,
   "id": "3bc4a8fe-9562-464e-9823-82e038b4bddf",
   "metadata": {},
   "outputs": [
    {
     "name": "stdout",
     "output_type": "stream",
     "text": [
      "Evaluation with the full-precision model took in average 3.52 seconds.\n",
      "Evaluation with the quantized model took in average 2.45 seconds.\n"
     ]
    }
   ],
   "source": [
    "print(f\"Evaluation with the full-precision model took in average {fp_t_avg} seconds.\")\n",
    "print(f\"Evaluation with the quantized model took in average {q_t_avg} seconds.\")"
   ]
  },
  {
   "cell_type": "code",
   "execution_count": 25,
   "id": "1c195f8a-94c3-49c0-87b0-3fef0df0a713",
   "metadata": {},
   "outputs": [
    {
     "name": "stdout",
     "output_type": "stream",
     "text": [
      "Evaluation inference with the quantized model was 1.44x faster.\n"
     ]
    }
   ],
   "source": [
    "print(f\"Evaluation inference with the quantized model was {round(fp_t_avg/q_t_avg, 2)}x faster.\")"
   ]
  },
  {
   "cell_type": "code",
   "execution_count": 26,
   "id": "3e7b87f1-6dec-406d-8de2-3bfe81c41073",
   "metadata": {},
   "outputs": [],
   "source": [
    "def plotter(outputdict):\n",
    "    fig = plt.figure(figsize = (10, 5)) \n",
    "    plt.bar(outputdict.keys(),outputdict.values(),color='blue',width=0.4)\n",
    "    plt.xlabel(\"Model\")\n",
    "    plt.ylabel(\"Eval inference (seconds); lower is better\")\n",
    "    plt.show()"
   ]
  },
  {
   "cell_type": "code",
   "execution_count": 27,
   "id": "f62d2162-21c2-4e84-85b6-a99f76a65780",
   "metadata": {},
   "outputs": [
    {
     "data": {
      "image/png": "[encoded data removed]",
      "text/plain": [
       "<Figure size 1000x500 with 1 Axes>"
      ]
     },
     "metadata": {},
     "output_type": "display_data"
    }
   ],
   "source": [
    "outputDict={\"Full-precision\":fp_t_avg,\"Quantized\":q_t_avg}\n",
    "plotter(outputDict)"
   ]
  }
 ],
 "metadata": {
  "kernelspec": {
   "display_name": "Python 3 (ipykernel)",
   "language": "python",
   "name": "python3"
  },
  "language_info": {
   "codemirror_mode": {
    "name": "ipython",
    "version": 3
   },
   "file_extension": ".py",
   "mimetype": "text/x-python",
   "name": "python",
   "nbconvert_exporter": "python",
   "pygments_lexer": "ipython3",
   "version": "3.9.10"
  }
 },
 "nbformat": 4,
 "nbformat_minor": 5
}
